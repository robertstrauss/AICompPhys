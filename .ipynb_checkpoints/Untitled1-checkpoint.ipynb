{
 "cells": [
  {
   "cell_type": "markdown",
   "metadata": {},
   "source": [
    "### Packages"
   ]
  },
  {
   "cell_type": "code",
   "execution_count": 11,
   "metadata": {},
   "outputs": [],
   "source": [
    "using Flux, DiffEqFlux, DifferentialEquations"
   ]
  },
  {
   "cell_type": "code",
   "execution_count": null,
   "metadata": {},
   "outputs": [],
   "source": []
  },
  {
   "cell_type": "code",
   "execution_count": 12,
   "metadata": {},
   "outputs": [
    {
     "name": "stdout",
     "output_type": "stream",
     "text": [
      "Array\n"
     ]
    }
   ],
   "source": [
    "cu = 0\n",
    "gc = Array\n",
    "\n",
    "if cu==gc\n",
    "    using CuArrays\n",
    "    CuArrays.allowscalar(false)\n",
    "\n",
    "    CuArrays.allowscalar(true)\n",
    "    gc = cu\n",
    "end\n",
    "\n",
    "println(gc)"
   ]
  },
  {
   "cell_type": "code",
   "execution_count": 13,
   "metadata": {},
   "outputs": [
    {
     "data": {
      "text/plain": [
       "eye (generic function with 1 method)"
      ]
     },
     "execution_count": 13,
     "metadata": {},
     "output_type": "execute_result"
    }
   ],
   "source": [
    "#module mbl\n",
    "function eye(n,m)\n",
    "     eye = zeros( Float32,m,n ) #|> gpu\n",
    "     for i in 1:min(n,m)\n",
    "       eye[i,i]=1.0f0\n",
    "     end\n",
    "     eye\n",
    "end"
   ]
  },
  {
   "cell_type": "code",
   "execution_count": 14,
   "metadata": {},
   "outputs": [],
   "source": [
    "struct IdentitySkip\n",
    "    inner\n",
    "end\n",
    "\n",
    "struct CatSkip\n",
    "    inner\n",
    "end\n",
    "\n",
    "struct JoinLayers\n",
    "    inner1\n",
    "    inner2\n",
    "end\n",
    "\n",
    "struct ForkCombine\n",
    "    inner1\n",
    "    inner2\n",
    "    method::Function\n",
    "end\n",
    "\n",
    "\n",
    "(m::IdentitySkip)(x) = m.inner(x) .+ x\n",
    "\n",
    "(m::CatSkip)(x) = vcat(x,m.inner(x))\n",
    "\n",
    "(m::JoinLayers)(x) = vcat(m.inner1(x),m.inner2(x))\n",
    "\n",
    "(m::ForkCombine)(x) = m.method(m.inner1(x),m.inner2(x))\n",
    "\n",
    "Flux.@treelike CatSkip\n",
    "Flux.@treelike IdentitySkip\n",
    "Flux.@treelike JoinLayers\n",
    "Flux.@treelike ForkCombine"
   ]
  },
  {
   "cell_type": "code",
   "execution_count": 15,
   "metadata": {},
   "outputs": [],
   "source": [
    "struct coshLayer\n",
    "  c::TrackedArray\n",
    "end\n",
    "\n",
    "coshLayer(W::AbstractArray;gc=gc) = coshLayer(Flux.param(gc(W)))\n",
    "\n",
    "(a::coshLayer)(x::AbstractArray) = x.*x.*x.*x.*x\n",
    "\n",
    "struct sinhLayer\n",
    "  c::TrackedArray\n",
    "end\n",
    "\n",
    "sinhLayer(W::AbstractArray;gc=gc) = sinhLayer((Flux.param(gc(W))))\n",
    "\n",
    "(a::sinhLayer)(x::AbstractArray) = x.*x.*x\n",
    "\n",
    "Flux.@treelike sinhLayer\n",
    "Flux.@treelike coshLayer"
   ]
  },
  {
   "cell_type": "code",
   "execution_count": 16,
   "metadata": {},
   "outputs": [],
   "source": [
    "struct myDense2\n",
    "  W::AbstractArray\n",
    "  b::AbstractArray\n",
    "  beta::AbstractArray # need union of Array and Tracked Arrya\n",
    "  activation::Function\n",
    "end\n",
    "\n",
    "function myDense2(activation::Function,W::AbstractArray, b::AbstractArray, beta::Real ; gc = gc)\n",
    "    p = map( gc,(W,b,beta) )\n",
    "    p = map(Flux.param, p)\n",
    "    myDense2(p...,activation)# cast the array to a tracked parameter list\n",
    "                            # then create and return the struct\n",
    "end\n",
    "\n",
    "function myDense2(activation::Function, W::AbstractArray, beta::Real ; gc=gc)\n",
    "    b = zeros(Float32,size(W)[1])\n",
    "    W,b,beta = map( gc, (W,b,beta))\n",
    "    W,beta = map(Flux.param, (W,beta))  # b is not tracked\n",
    "   # but b is on gpu possibly\n",
    "    myDense2(W,b,beta,activation )# cast the array to a tracked parameter list\n",
    "                            # then create and return the struct\n",
    "end\n",
    "\n",
    "function myDense2(activation::Function,W::AbstractArray, b::AbstractArray; gc=gc)\n",
    "    beta = [1.0f0]\n",
    "    W,b,beta = map( gc,(W,b,beta) )\n",
    "    W,beta = map(Flux.param, (W,beta))  # note comma on unpack\n",
    "    myDense2(W,b,beta,activation)# cast the array to a tracked parameter list\n",
    "                                 # then create and return the struct\n",
    "end\n",
    "\n",
    "function myDense2(W::AbstractArray ,b::AbstractArray; gc=gc)\n",
    "    beta = [1.0f0]\n",
    "    W,b,beta = map( gc,(W,b,beta) )\n",
    "    W,beta = map(Flux.param, (W,beta))  # note comma on unpack\n",
    "    myDense2(W,b,beta,identity)# cast the array to a tracked parameter list\n",
    "                               # then create and return the struct\n",
    "end\n",
    "\n",
    "function myDense2(W::AbstractArray; gc=gc)\n",
    "    beta = [1.0f0]\n",
    "    b = zeros(Float32,size(W)[1])\n",
    "    W,b,beta = map( gc,(W,b,beta) )\n",
    "    W, = map(Flux.param, (W,))  # note comma on unpack\n",
    "    myDense2(W,b,beta,identity)# cast the array to a tracked parameter list\n",
    "                               # then create and return the struct\n",
    "end\n",
    "\n",
    "function (a::myDense2)(x)\n",
    "    u = a.W*x .+ a.b\n",
    "    a.beta.*a.activation.(u)\n",
    "end\n",
    "\n",
    "\n",
    "Flux.@treelike myDense2"
   ]
  },
  {
   "cell_type": "code",
   "execution_count": 17,
   "metadata": {},
   "outputs": [
    {
     "data": {
      "text/plain": [
       "mk_lv (generic function with 1 method)"
      ]
     },
     "execution_count": 17,
     "metadata": {},
     "output_type": "execute_result"
    }
   ],
   "source": [
    "struct lv\n",
    "    A\n",
    "    b\n",
    "end\n",
    "\n",
    "(m::lv)(x) = x.*( m.b .+ m.A*x)\n",
    "\n",
    "@Flux.treelike lv\n",
    "\n",
    "function mk_lv(A::AbstractArray,b::AbstractArray)\n",
    "    lv( Flux.param(A), Flux.param(b))\n",
    "end"
   ]
  },
  {
   "cell_type": "code",
   "execution_count": null,
   "metadata": {},
   "outputs": [],
   "source": []
  }
 ],
 "metadata": {
  "kernelspec": {
   "display_name": "Julia 1.2.0",
   "language": "julia",
   "name": "julia-1.2"
  },
  "language_info": {
   "file_extension": ".jl",
   "mimetype": "application/julia",
   "name": "julia",
   "version": "1.2.0"
  }
 },
 "nbformat": 4,
 "nbformat_minor": 2
}
